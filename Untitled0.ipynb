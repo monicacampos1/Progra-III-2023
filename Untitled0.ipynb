{
  "nbformat": 4,
  "nbformat_minor": 0,
  "metadata": {
    "colab": {
      "provenance": [],
      "authorship_tag": "ABX9TyMT23CFUp88JMlMp64X2Md6",
      "include_colab_link": true
    },
    "kernelspec": {
      "name": "python3",
      "display_name": "Python 3"
    },
    "language_info": {
      "name": "python"
    }
  },
  "cells": [
    {
      "cell_type": "markdown",
      "metadata": {
        "id": "view-in-github",
        "colab_type": "text"
      },
      "source": [
        "<a href=\"https://colab.research.google.com/github/monicacampos1/Progra-III-2023/blob/main/Untitled0.ipynb\" target=\"_parent\"><img src=\"https://colab.research.google.com/assets/colab-badge.svg\" alt=\"Open In Colab\"/></a>"
      ]
    },
    {
      "cell_type": "code",
      "execution_count": null,
      "metadata": {
        "colab": {
          "base_uri": "https://localhost:8080/"
        },
        "id": "lvBjk6VdVfzN",
        "outputId": "1e2bc811-b46a-444c-99a3-080210e846ca"
      },
      "outputs": [
        {
          "output_type": "stream",
          "name": "stdout",
          "text": [
            "Hola mario. Hola cris.\n"
          ]
        }
      ],
      "source": [
        "saludo1 = \"Hola mario.\"\n",
        "saludo2 = \" Hola cris.\"\n",
        "respuesta = saludo1 + saludo2\n",
        "\n",
        "print(respuesta)\n"
      ]
    },
    {
      "cell_type": "code",
      "source": [
        "num1 = 5\n",
        "num2 = 20.5\n",
        "\n",
        "respuesta = num1 + num2\n",
        "\n",
        "print (\"La suma de \", num1, \" + \", num2, \" = \", respuesta)\n"
      ],
      "metadata": {
        "colab": {
          "base_uri": "https://localhost:8080/"
        },
        "id": "Lnd4KcFgVjUf",
        "outputId": "4935d1f9-a03b-47f1-fe12-dddfb2aff90a"
      },
      "execution_count": null,
      "outputs": [
        {
          "output_type": "stream",
          "name": "stdout",
          "text": [
            "La suma de  5  +  20.5  =  25.5\n"
          ]
        }
      ]
    },
    {
      "cell_type": "code",
      "source": [],
      "metadata": {
        "id": "sstvqZl0AXX-"
      },
      "execution_count": null,
      "outputs": []
    },
    {
      "cell_type": "code",
      "source": [
        "name = \"Cristian Herrera\"\n",
        "edad = 20\n",
        "saludo = \"Hola \" + name + \", tu edad \" + str(edad)\n",
        "print(saludo)\n"
      ],
      "metadata": {
        "colab": {
          "base_uri": "https://localhost:8080/"
        },
        "id": "nlUcz9VoWcLY",
        "outputId": "43c7e9b7-b5da-482d-8a74-529ff8382c66"
      },
      "execution_count": null,
      "outputs": [
        {
          "output_type": "stream",
          "name": "stdout",
          "text": [
            "Hola Cristian Herrera, tu edad 20\n"
          ]
        }
      ]
    },
    {
      "cell_type": "code",
      "source": [
        "nombre = input(\"Dime tu nombre: \")\n",
        "edad = input(\"Tu edad: \")\n",
        "saludo = \"Hola que tal \"+ nombre + \", tu edad: \" + edad\n",
        "print(saludo)\n"
      ],
      "metadata": {
        "colab": {
          "base_uri": "https://localhost:8080/"
        },
        "id": "KELIEOyUWhZe",
        "outputId": "33c83b68-f785-4b67-cdf5-92bd723c3525"
      },
      "execution_count": null,
      "outputs": [
        {
          "output_type": "stream",
          "name": "stdout",
          "text": [
            "Dime tu nombre: Monica \n",
            "Tu edad: 20\n",
            "Hola que tal Monica , tu edad: 20\n"
          ]
        }
      ]
    },
    {
      "cell_type": "code",
      "source": [
        "num1 = float( input(\"Digita el primer numero: \" ))\n",
        "num2 = float( input(\"Digita el segundo numero: \"  ))\n",
        "\n",
        "suma = num1 + num2\n",
        "print(suma)\n"
      ],
      "metadata": {
        "colab": {
          "base_uri": "https://localhost:8080/"
        },
        "id": "k9gbeYqOWnTc",
        "outputId": "932ee24e-2e93-4373-8da0-6161a26759e8"
      },
      "execution_count": null,
      "outputs": [
        {
          "output_type": "stream",
          "name": "stdout",
          "text": [
            "Digita el primer numero: 2\n",
            "Digita el segundo numero: 3\n",
            "5.0\n"
          ]
        }
      ]
    }
  ]
}